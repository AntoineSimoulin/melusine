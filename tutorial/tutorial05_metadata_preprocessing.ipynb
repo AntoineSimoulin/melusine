{
 "cells": [
  {
   "cell_type": "markdown",
   "metadata": {},
   "source": [
    "# Metadata preprocessing tutorial"
   ]
  },
  {
   "cell_type": "markdown",
   "metadata": {},
   "source": [
    "Melusine **prepare_data.metadata_engineering subpackage** provides classes to preprocess the metadata :\n",
    "- **MetaExtension :** a transformer which creates an 'extension' feature extracted from regex in metadata. It extracts the extensions of mail adresses.\n",
    "- **MetaDate :** a transformer which creates new features from dates such as: hour, minute, dayofweek.\n",
    "- **Dummifier :** a transformer to dummifies categorial features.\n",
    "\n",
    "All the classes have **fit_transform** methods."
   ]
  },
  {
   "cell_type": "markdown",
   "metadata": {},
   "source": [
    "### Input dataframe"
   ]
  },
  {
   "cell_type": "markdown",
   "metadata": {},
   "source": [
    "- To use a **MetaExtension** transformer : the dataframe requires a **from** column\n",
    "- To use a **MetaDate** transformer : the dataframe requires a **date** column"
   ]
  },
  {
   "cell_type": "code",
   "execution_count": 1,
   "metadata": {},
   "outputs": [],
   "source": [
    "from melusine.data.data_loader import load_email_data\n",
    "\n",
    "df_emails = load_email_data()\n",
    "df_emails = df_emails[['from','date']]"
   ]
  },
  {
   "cell_type": "code",
   "execution_count": 2,
   "metadata": {},
   "outputs": [
    {
     "data": {
      "text/plain": [
       "0                    conseiller1@societeimaginaire.fr\n",
       "1                    conseiller1@societeimaginaire.fr\n",
       "2     Monsieur Dupont <monsieurdupont@extensiona.com>\n",
       "3     Monsieur Dupont <monsieurdupont@extensiond.com>\n",
       "4     Monsieur Dupont <monsieurdupont@extensiona.com>\n",
       "5     Monsieur Dupont <monsieurdupont@extensiona.com>\n",
       "6       Conseiller <conseiller1@societeimaginaire.fr>\n",
       "7     Monsieur Dupont <monsieurdupont@extensiona.com>\n",
       "8     Monsieur Dupont <monsieurdupont@extensione.com>\n",
       "9     Monsieur Dupont <monsieurdupont@extensionb.com>\n",
       "10                    conseiller@societeimaginaire.fr\n",
       "11                      monsieurdupont@extensionf.net\n",
       "12                    conseiller@societeimaginaire.fr\n",
       "13    Monsieur Dupont <monsieurdupont@extensiona.com>\n",
       "14                    conseiller@societeimaginaire.fr\n",
       "15    Monsieur Dupont <monsieurdupont@extensionc.com>\n",
       "16    Monsieur Dupont <monsieurdupont@extensionb.com>\n",
       "17    Monsieur Dupont <monsieurdupont@extensiona.com>\n",
       "18    Monsieur Dupont <monsieurdupont@extensiona.com>\n",
       "19     Monsieur Dupont <monsieurdupont@extensiong.fr>\n",
       "20     Monsieur Dupont <monsieurdupont@extensiong.fr>\n",
       "21                    conseiller@societeimaginaire.fr\n",
       "22                    conseiller@societeimaginaire.fr\n",
       "23     Monsieur Dupont <monsieurdupont@extensiong.fr>\n",
       "24    Monsieur Dupont <monsieurdupont@extensiona.com>\n",
       "25                    conseiller@societeimaginaire.fr\n",
       "26                    conseiller@societeimaginaire.fr\n",
       "27      Conseiller <conseiller1@societeimaginaire.fr>\n",
       "28    Monsieur Dupont <monsieurdupont@extensiona.com>\n",
       "29    Monsieur Dupont <monsieurdupont@extensiona.com>\n",
       "30                    conseiller@societeimaginaire.fr\n",
       "31                    conseiller@societeimaginaire.fr\n",
       "32                    conseiller@societeimaginaire.fr\n",
       "33    Monsieur Dupont <monsieurdupont@extensionb.com>\n",
       "34     Monsieur Dupont <monsieurdupont@extensiong.fr>\n",
       "35     Monsieur Dupont <monsieurdupont@extensionh.fr>\n",
       "36    Monsieur Dupont <monsieurdupont@extensiona.com>\n",
       "37    Monsieur Dupont <monsieurdupont@extensiona.com>\n",
       "38    Monsieur Dupont <monsieurdupont@extensionb.com>\n",
       "39                    conseiller@societeimaginaire.fr\n",
       "Name: from, dtype: object"
      ]
     },
     "execution_count": 2,
     "metadata": {},
     "output_type": "execute_result"
    }
   ],
   "source": [
    "df_emails['from']"
   ]
  },
  {
   "cell_type": "code",
   "execution_count": 3,
   "metadata": {},
   "outputs": [
    {
     "data": {
      "text/plain": [
       "0        jeudi 24 mai 2018 11 h 49 CEST\n",
       "1     vendredi 25 mai 2018 06 h 21 CEST\n",
       "2     vendredi 25 mai 2018 06 h 45 CEST\n",
       "3     vendredi 25 mai 2018 10 h 15 CEST\n",
       "4     vendredi 25 mai 2018 17 h 30 CEST\n",
       "5        jeudi 31 mai 2018 10 h 28 CEST\n",
       "6        jeudi 31 mai 2018 12 h 24 CEST\n",
       "7        jeudi 31 mai 2018 14 h 02 CEST\n",
       "8        jeudi 31 mai 2018 17 h 10 CEST\n",
       "9        jeudi 31 mai 2018 08 h 54 CEST\n",
       "10       jeudi 31 mai 2018 12 h 00 CEST\n",
       "11       jeudi 31 mai 2018 12 h 44 CEST\n",
       "12       lundi 4 juin 2018 09 h 56 CEST\n",
       "13       lundi 4 juin 2018 14 h 09 CEST\n",
       "14       lundi 4 juin 2018 09 h 20 CEST\n",
       "15       lundi 4 juin 2018 10 h 22 CEST\n",
       "16       lundi 4 juin 2018 15 h 39 CEST\n",
       "17       lundi 4 juin 2018 15 h 49 CEST\n",
       "18       lundi 4 juin 2018 18 h 04 CEST\n",
       "19       lundi 4 juin 2018 20 h 45 CEST\n",
       "20       lundi 4 juin 2018 22 h 28 CEST\n",
       "21       lundi 4 juin 2018 10 h 29 CEST\n",
       "22       lundi 4 juin 2018 10 h 38 CEST\n",
       "23       lundi 4 juin 2018 11 h 19 CEST\n",
       "24       lundi 4 juin 2018 10 h 58 CEST\n",
       "25       lundi 4 juin 2018 15 h 37 CEST\n",
       "26       mardi 5 juin 2018 09 h 04 CEST\n",
       "27       mardi 5 juin 2018 10 h 56 CEST\n",
       "28       mardi 5 juin 2018 11 h 12 CEST\n",
       "29       mardi 5 juin 2018 17 h 37 CEST\n",
       "30       mardi 5 juin 2018 10 h 06 CEST\n",
       "31       mardi 5 juin 2018 12 h 33 CEST\n",
       "32       mardi 5 juin 2018 14 h 11 CEST\n",
       "33       mardi 5 juin 2018 16 h 06 CEST\n",
       "34       jeudi 7 juin 2018 12 h 38 CEST\n",
       "35       jeudi 7 juin 2018 18 h 22 CEST\n",
       "36       jeudi 7 juin 2018 15 h 16 CEST\n",
       "37       jeudi 7 juin 2018 10 h 45 CEST\n",
       "38       jeudi 7 juin 2018 11 h 40 CEST\n",
       "39       jeudi 7 juin 2018 16 h 32 CEST\n",
       "Name: date, dtype: object"
      ]
     },
     "execution_count": 3,
     "metadata": {},
     "output_type": "execute_result"
    }
   ],
   "source": [
    "df_emails['date']"
   ]
  },
  {
   "cell_type": "markdown",
   "metadata": {},
   "source": [
    "### MetaExtension transformer"
   ]
  },
  {
   "cell_type": "markdown",
   "metadata": {},
   "source": [
    "A **MetaExtension transformer** creates an *extension* feature extracted from regex in metadata. It extracts the extensions of mail adresses."
   ]
  },
  {
   "cell_type": "code",
   "execution_count": 4,
   "metadata": {},
   "outputs": [],
   "source": [
    "from melusine.prepare_email.metadata_engineering import MetaExtension\n",
    "\n",
    "meta_extension = MetaExtension()"
   ]
  },
  {
   "cell_type": "code",
   "execution_count": 5,
   "metadata": {},
   "outputs": [],
   "source": [
    "df_emails = meta_extension.fit_transform(df_emails)"
   ]
  },
  {
   "cell_type": "code",
   "execution_count": 6,
   "metadata": {},
   "outputs": [
    {
     "data": {
      "text/plain": [
       "0     8\n",
       "1     8\n",
       "2     0\n",
       "3     3\n",
       "4     0\n",
       "5     0\n",
       "6     8\n",
       "7     0\n",
       "8     4\n",
       "9     1\n",
       "10    8\n",
       "11    5\n",
       "12    8\n",
       "13    0\n",
       "14    8\n",
       "15    2\n",
       "16    1\n",
       "17    0\n",
       "18    0\n",
       "19    6\n",
       "20    6\n",
       "21    8\n",
       "22    8\n",
       "23    6\n",
       "24    0\n",
       "25    8\n",
       "26    8\n",
       "27    8\n",
       "28    0\n",
       "29    0\n",
       "30    8\n",
       "31    8\n",
       "32    8\n",
       "33    1\n",
       "34    6\n",
       "35    7\n",
       "36    0\n",
       "37    0\n",
       "38    1\n",
       "39    8\n",
       "Name: extension, dtype: int64"
      ]
     },
     "execution_count": 6,
     "metadata": {},
     "output_type": "execute_result"
    }
   ],
   "source": [
    "df_emails.extension"
   ]
  },
  {
   "cell_type": "markdown",
   "metadata": {},
   "source": [
    "### MetaExtension transformer"
   ]
  },
  {
   "cell_type": "markdown",
   "metadata": {},
   "source": [
    "A **MetaDate transformer** creates new features from dates : **hour**, **minute** and **dayofweek**."
   ]
  },
  {
   "cell_type": "code",
   "execution_count": 7,
   "metadata": {},
   "outputs": [],
   "source": [
    "from melusine.prepare_email.metadata_engineering import MetaDate\n",
    "\n",
    "meta_date = MetaDate()"
   ]
  },
  {
   "cell_type": "code",
   "execution_count": 8,
   "metadata": {},
   "outputs": [],
   "source": [
    "df_emails = meta_date.fit_transform(df_emails)"
   ]
  },
  {
   "cell_type": "code",
   "execution_count": 9,
   "metadata": {},
   "outputs": [
    {
     "data": {
      "text/plain": [
       "Timestamp('2018-05-24 11:49:00')"
      ]
     },
     "execution_count": 9,
     "metadata": {},
     "output_type": "execute_result"
    }
   ],
   "source": [
    "df_emails.date[0]"
   ]
  },
  {
   "cell_type": "code",
   "execution_count": 10,
   "metadata": {},
   "outputs": [
    {
     "data": {
      "text/plain": [
       "11"
      ]
     },
     "execution_count": 10,
     "metadata": {},
     "output_type": "execute_result"
    }
   ],
   "source": [
    "df_emails.hour[0]"
   ]
  },
  {
   "cell_type": "code",
   "execution_count": 11,
   "metadata": {},
   "outputs": [
    {
     "data": {
      "text/plain": [
       "49"
      ]
     },
     "execution_count": 11,
     "metadata": {},
     "output_type": "execute_result"
    }
   ],
   "source": [
    "df_emails.loc[0,'min']"
   ]
  },
  {
   "cell_type": "code",
   "execution_count": 12,
   "metadata": {},
   "outputs": [
    {
     "data": {
      "text/plain": [
       "3"
      ]
     },
     "execution_count": 12,
     "metadata": {},
     "output_type": "execute_result"
    }
   ],
   "source": [
    "df_emails.dayofweek[0]"
   ]
  },
  {
   "cell_type": "markdown",
   "metadata": {},
   "source": [
    "### Dummifier transformer"
   ]
  },
  {
   "cell_type": "markdown",
   "metadata": {},
   "source": [
    "A **Dummifier transformer** dummifies categorial features.\n",
    "\n",
    "Its arguments are :\n",
    "- **columns_to_dummify** : a list of the metadata columns to dummify."
   ]
  },
  {
   "cell_type": "code",
   "execution_count": 13,
   "metadata": {},
   "outputs": [],
   "source": [
    "from melusine.prepare_email.metadata_engineering import Dummifier\n",
    "\n",
    "dummifier = Dummifier(columns_to_dummify=['extension', 'dayofweek', 'hour', 'min'])"
   ]
  },
  {
   "cell_type": "code",
   "execution_count": 14,
   "metadata": {},
   "outputs": [],
   "source": [
    "df_meta = dummifier.fit_transform(df_emails)"
   ]
  },
  {
   "cell_type": "code",
   "execution_count": 15,
   "metadata": {},
   "outputs": [
    {
     "data": {
      "text/plain": [
       "Index(['extension__0', 'extension__1', 'extension__2', 'extension__3',\n",
       "       'extension__4', 'extension__5', 'extension__6', 'extension__7',\n",
       "       'extension__8', 'dayofweek__0', 'dayofweek__1', 'dayofweek__3',\n",
       "       'dayofweek__4', 'hour__6', 'hour__8', 'hour__9', 'hour__10', 'hour__11',\n",
       "       'hour__12', 'hour__14', 'hour__15', 'hour__16', 'hour__17', 'hour__18',\n",
       "       'hour__20', 'hour__22', 'min__0', 'min__2', 'min__4', 'min__6',\n",
       "       'min__9', 'min__10', 'min__11', 'min__12', 'min__15', 'min__16',\n",
       "       'min__19', 'min__20', 'min__21', 'min__22', 'min__24', 'min__28',\n",
       "       'min__29', 'min__30', 'min__32', 'min__33', 'min__37', 'min__38',\n",
       "       'min__39', 'min__40', 'min__44', 'min__45', 'min__49', 'min__54',\n",
       "       'min__56', 'min__58'],\n",
       "      dtype='object')"
      ]
     },
     "execution_count": 15,
     "metadata": {},
     "output_type": "execute_result"
    }
   ],
   "source": [
    "df_meta.columns"
   ]
  },
  {
   "cell_type": "code",
   "execution_count": 16,
   "metadata": {},
   "outputs": [
    {
     "data": {
      "text/html": [
       "<div>\n",
       "<style scoped>\n",
       "    .dataframe tbody tr th:only-of-type {\n",
       "        vertical-align: middle;\n",
       "    }\n",
       "\n",
       "    .dataframe tbody tr th {\n",
       "        vertical-align: top;\n",
       "    }\n",
       "\n",
       "    .dataframe thead th {\n",
       "        text-align: right;\n",
       "    }\n",
       "</style>\n",
       "<table border=\"1\" class=\"dataframe\">\n",
       "  <thead>\n",
       "    <tr style=\"text-align: right;\">\n",
       "      <th></th>\n",
       "      <th>extension__0</th>\n",
       "      <th>extension__1</th>\n",
       "      <th>extension__2</th>\n",
       "      <th>extension__3</th>\n",
       "      <th>extension__4</th>\n",
       "      <th>extension__5</th>\n",
       "      <th>extension__6</th>\n",
       "      <th>extension__7</th>\n",
       "      <th>extension__8</th>\n",
       "      <th>dayofweek__0</th>\n",
       "      <th>...</th>\n",
       "      <th>min__37</th>\n",
       "      <th>min__38</th>\n",
       "      <th>min__39</th>\n",
       "      <th>min__40</th>\n",
       "      <th>min__44</th>\n",
       "      <th>min__45</th>\n",
       "      <th>min__49</th>\n",
       "      <th>min__54</th>\n",
       "      <th>min__56</th>\n",
       "      <th>min__58</th>\n",
       "    </tr>\n",
       "  </thead>\n",
       "  <tbody>\n",
       "    <tr>\n",
       "      <th>0</th>\n",
       "      <td>0</td>\n",
       "      <td>0</td>\n",
       "      <td>0</td>\n",
       "      <td>0</td>\n",
       "      <td>0</td>\n",
       "      <td>0</td>\n",
       "      <td>0</td>\n",
       "      <td>0</td>\n",
       "      <td>1</td>\n",
       "      <td>0</td>\n",
       "      <td>...</td>\n",
       "      <td>0</td>\n",
       "      <td>0</td>\n",
       "      <td>0</td>\n",
       "      <td>0</td>\n",
       "      <td>0</td>\n",
       "      <td>0</td>\n",
       "      <td>1</td>\n",
       "      <td>0</td>\n",
       "      <td>0</td>\n",
       "      <td>0</td>\n",
       "    </tr>\n",
       "    <tr>\n",
       "      <th>1</th>\n",
       "      <td>0</td>\n",
       "      <td>0</td>\n",
       "      <td>0</td>\n",
       "      <td>0</td>\n",
       "      <td>0</td>\n",
       "      <td>0</td>\n",
       "      <td>0</td>\n",
       "      <td>0</td>\n",
       "      <td>1</td>\n",
       "      <td>0</td>\n",
       "      <td>...</td>\n",
       "      <td>0</td>\n",
       "      <td>0</td>\n",
       "      <td>0</td>\n",
       "      <td>0</td>\n",
       "      <td>0</td>\n",
       "      <td>0</td>\n",
       "      <td>0</td>\n",
       "      <td>0</td>\n",
       "      <td>0</td>\n",
       "      <td>0</td>\n",
       "    </tr>\n",
       "    <tr>\n",
       "      <th>2</th>\n",
       "      <td>1</td>\n",
       "      <td>0</td>\n",
       "      <td>0</td>\n",
       "      <td>0</td>\n",
       "      <td>0</td>\n",
       "      <td>0</td>\n",
       "      <td>0</td>\n",
       "      <td>0</td>\n",
       "      <td>0</td>\n",
       "      <td>0</td>\n",
       "      <td>...</td>\n",
       "      <td>0</td>\n",
       "      <td>0</td>\n",
       "      <td>0</td>\n",
       "      <td>0</td>\n",
       "      <td>0</td>\n",
       "      <td>1</td>\n",
       "      <td>0</td>\n",
       "      <td>0</td>\n",
       "      <td>0</td>\n",
       "      <td>0</td>\n",
       "    </tr>\n",
       "    <tr>\n",
       "      <th>3</th>\n",
       "      <td>0</td>\n",
       "      <td>0</td>\n",
       "      <td>0</td>\n",
       "      <td>1</td>\n",
       "      <td>0</td>\n",
       "      <td>0</td>\n",
       "      <td>0</td>\n",
       "      <td>0</td>\n",
       "      <td>0</td>\n",
       "      <td>0</td>\n",
       "      <td>...</td>\n",
       "      <td>0</td>\n",
       "      <td>0</td>\n",
       "      <td>0</td>\n",
       "      <td>0</td>\n",
       "      <td>0</td>\n",
       "      <td>0</td>\n",
       "      <td>0</td>\n",
       "      <td>0</td>\n",
       "      <td>0</td>\n",
       "      <td>0</td>\n",
       "    </tr>\n",
       "    <tr>\n",
       "      <th>4</th>\n",
       "      <td>1</td>\n",
       "      <td>0</td>\n",
       "      <td>0</td>\n",
       "      <td>0</td>\n",
       "      <td>0</td>\n",
       "      <td>0</td>\n",
       "      <td>0</td>\n",
       "      <td>0</td>\n",
       "      <td>0</td>\n",
       "      <td>0</td>\n",
       "      <td>...</td>\n",
       "      <td>0</td>\n",
       "      <td>0</td>\n",
       "      <td>0</td>\n",
       "      <td>0</td>\n",
       "      <td>0</td>\n",
       "      <td>0</td>\n",
       "      <td>0</td>\n",
       "      <td>0</td>\n",
       "      <td>0</td>\n",
       "      <td>0</td>\n",
       "    </tr>\n",
       "  </tbody>\n",
       "</table>\n",
       "<p>5 rows × 56 columns</p>\n",
       "</div>"
      ],
      "text/plain": [
       "   extension__0  extension__1  extension__2  extension__3  extension__4  \\\n",
       "0             0             0             0             0             0   \n",
       "1             0             0             0             0             0   \n",
       "2             1             0             0             0             0   \n",
       "3             0             0             0             1             0   \n",
       "4             1             0             0             0             0   \n",
       "\n",
       "   extension__5  extension__6  extension__7  extension__8  dayofweek__0  ...  \\\n",
       "0             0             0             0             1             0  ...   \n",
       "1             0             0             0             1             0  ...   \n",
       "2             0             0             0             0             0  ...   \n",
       "3             0             0             0             0             0  ...   \n",
       "4             0             0             0             0             0  ...   \n",
       "\n",
       "   min__37  min__38  min__39  min__40  min__44  min__45  min__49  min__54  \\\n",
       "0        0        0        0        0        0        0        1        0   \n",
       "1        0        0        0        0        0        0        0        0   \n",
       "2        0        0        0        0        0        1        0        0   \n",
       "3        0        0        0        0        0        0        0        0   \n",
       "4        0        0        0        0        0        0        0        0   \n",
       "\n",
       "   min__56  min__58  \n",
       "0        0        0  \n",
       "1        0        0  \n",
       "2        0        0  \n",
       "3        0        0  \n",
       "4        0        0  \n",
       "\n",
       "[5 rows x 56 columns]"
      ]
     },
     "execution_count": 16,
     "metadata": {},
     "output_type": "execute_result"
    }
   ],
   "source": [
    "df_meta.head()"
   ]
  },
  {
   "cell_type": "markdown",
   "metadata": {},
   "source": [
    "### Custom metadata transformer"
   ]
  },
  {
   "cell_type": "markdown",
   "metadata": {},
   "source": [
    "A custom transformer can be implemented to extract metadata from a column :"
   ]
  },
  {
   "cell_type": "markdown",
   "metadata": {},
   "source": [
    "```python\n",
    "from sklearn.base import BaseEstimator, TransformerMixin\n",
    "\n",
    "class MetaDataCustom(BaseEstimator, TransformerMixin):\n",
    "    \"\"\"Transformer which creates custom matadata\n",
    "\n",
    "    Compatible with scikit-learn API.\n",
    "    \"\"\"\n",
    "\n",
    "    def __init__(self):\n",
    "        \"\"\"\n",
    "        arguments\n",
    "        \"\"\"\n",
    "\n",
    "    def fit(self, X, y=None):\n",
    "        \"\"\" Fit method\"\"\"\n",
    "        return self\n",
    "\n",
    "    def transform(self, X):\n",
    "        \"\"\"Transform method\"\"\"\n",
    "        X['custom_metadata'] = X['column'].apply(self.get_metadata)\n",
    "        return X\n",
    "```"
   ]
  },
  {
   "cell_type": "markdown",
   "metadata": {},
   "source": [
    "The name of the output column can then be given as argument to a Dummifier transformer :"
   ]
  },
  {
   "cell_type": "markdown",
   "metadata": {},
   "source": [
    "```python\n",
    "dummifier = Dummifier(columns_to_dummify=['custom_metadata'])\n",
    "```"
   ]
  },
  {
   "cell_type": "code",
   "execution_count": null,
   "metadata": {},
   "outputs": [],
   "source": []
  }
 ],
 "metadata": {
  "kernelspec": {
   "display_name": "test_melusine3",
   "language": "python",
   "name": "test_melusine3"
  },
  "language_info": {
   "codemirror_mode": {
    "name": "ipython",
    "version": 3
   },
   "file_extension": ".py",
   "mimetype": "text/x-python",
   "name": "python",
   "nbconvert_exporter": "python",
   "pygments_lexer": "ipython3",
   "version": "3.6.8"
  }
 },
 "nbformat": 4,
 "nbformat_minor": 2
}
