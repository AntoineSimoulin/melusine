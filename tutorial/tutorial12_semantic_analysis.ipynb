{
 "cells": [
  {
   "cell_type": "markdown",
   "metadata": {},
   "source": [
    "# Unsupervised Semantic Analysis tutorial"
   ]
  },
  {
   "cell_type": "markdown",
   "metadata": {},
   "source": [
    "The **SemanticDetector** class is used to predict a sentiment score in a document / email.\n",
    "\n",
    "For that purpose, two inputs are required:\n",
    "- a list of seed words that caracterize a sentiment \n",
    "  Exemple : the seed words [\"mad\", \"furious\", \"insane\"] caracterize the sentiment \"dissatisfaction\"\n",
    "- a trained embedding (Melusine **Embedding** class instance) to compute distances between words/tokens\n",
    "\n",
    "The three steps for sentiment score prediction are the following:\n",
    "- Instanciate a SentimentDetector object with a list of seed words as argument\n",
    "- Use the SentimentDetector.fit method (with an embedding object as argument) to compute the lexicons\n",
    "- Use the SentimentDetector.predict method on a document/email DataFrame to predict the sentiment score"
   ]
  },
  {
   "cell_type": "markdown",
   "metadata": {},
   "source": [
    "## Minimal working exemple"
   ]
  },
  {
   "cell_type": "code",
   "execution_count": 2,
   "metadata": {
    "ExecuteTime": {
     "end_time": "2019-09-19T07:47:01.459771Z",
     "start_time": "2019-09-19T07:46:58.811070Z"
    }
   },
   "outputs": [],
   "source": [
    "import pandas as pd\n",
    "import numpy as np\n",
    "\n",
    "# NLP tools\n",
    "from melusine.nlp_tools.embedding import Embedding\n",
    "from melusine.nlp_tools.tokenizer import Tokenizer\n",
    "\n",
    "# Models\n",
    "from melusine.models.modeler_semantic import SemanticDetector"
   ]
  },
  {
   "cell_type": "markdown",
   "metadata": {},
   "source": [
    "### Load email data"
   ]
  },
  {
   "cell_type": "code",
   "execution_count": 3,
   "metadata": {
    "ExecuteTime": {
     "end_time": "2019-09-19T07:47:01.478963Z",
     "start_time": "2019-09-19T07:47:01.464110Z"
    }
   },
   "outputs": [],
   "source": [
    "df_emails_clean = pd.read_csv('./data/emails_preprocessed.csv', encoding='utf-8', sep=';')\n",
    "df_emails_clean = df_emails_clean[['clean_body']]\n",
    "df_emails_clean = df_emails_clean.astype(str)"
   ]
  },
  {
   "cell_type": "markdown",
   "metadata": {},
   "source": [
    "### Embedding"
   ]
  },
  {
   "cell_type": "code",
   "execution_count": 4,
   "metadata": {
    "ExecuteTime": {
     "end_time": "2019-09-19T07:47:01.698513Z",
     "start_time": "2019-09-19T07:47:01.480932Z"
    }
   },
   "outputs": [],
   "source": [
    "# Train an embedding using the text data in the 'clean_body' column\n",
    "embedding = Embedding(input_column='clean_body', size=300, min_count=2)\n",
    "embedding.train(df_emails_clean)"
   ]
  },
  {
   "cell_type": "code",
   "execution_count": 5,
   "metadata": {
    "ExecuteTime": {
     "end_time": "2019-09-19T07:47:01.713672Z",
     "start_time": "2019-09-19T07:47:01.700658Z"
    }
   },
   "outputs": [
    {
     "data": {
      "text/plain": [
       "['client', 'chez', 'pouvez']"
      ]
     },
     "execution_count": 5,
     "metadata": {},
     "output_type": "execute_result"
    }
   ],
   "source": [
    "# Print a list of words present in the Embedding vocabulary\n",
    "list(embedding.embedding.vocab.keys())[:3]"
   ]
  },
  {
   "cell_type": "code",
   "execution_count": 6,
   "metadata": {
    "ExecuteTime": {
     "end_time": "2019-09-19T07:47:01.758159Z",
     "start_time": "2019-09-19T07:47:01.718363Z"
    }
   },
   "outputs": [
    {
     "data": {
      "text/plain": [
       "[('somme', 0.1382540762424469),\n",
       " ('cession', 0.1165727823972702),\n",
       " ('certificat', 0.10713961720466614)]"
      ]
     },
     "execution_count": 6,
     "metadata": {},
     "output_type": "execute_result"
    }
   ],
   "source": [
    "# Test the trained embedding : print most similar words\n",
    "embedding.embedding.most_similar('client', topn=3)"
   ]
  },
  {
   "cell_type": "markdown",
   "metadata": {},
   "source": [
    "### Tokenizer"
   ]
  },
  {
   "cell_type": "code",
   "execution_count": 7,
   "metadata": {
    "ExecuteTime": {
     "end_time": "2019-09-19T07:47:01.780897Z",
     "start_time": "2019-09-19T07:47:01.762045Z"
    }
   },
   "outputs": [],
   "source": [
    "# Tokenize the text in the clean_body column\n",
    "tokenizer = Tokenizer (input_column='clean_body', stop_removal=True, n_jobs=20)\n",
    "df_emails_clean = tokenizer.fit_transform(df_emails_clean)"
   ]
  },
  {
   "cell_type": "code",
   "execution_count": 8,
   "metadata": {
    "ExecuteTime": {
     "end_time": "2019-09-19T07:47:01.793118Z",
     "start_time": "2019-09-19T07:47:01.782655Z"
    }
   },
   "outputs": [
    {
     "data": {
      "text/plain": [
       "0    [client, chez, pouvez, etablir, flag_name_, fi...\n",
       "1    [informe, nouvelle, immatriculation, enfin, fa...\n",
       "2    [suite, a, conversation, telephonique, mardi, ...\n",
       "3    [fais, suite, a, mail, envoye, bulletin, salai...\n",
       "4    [voici, ci, joint, bulletin, salaire, comme, d...\n",
       "Name: tokens, dtype: object"
      ]
     },
     "execution_count": 8,
     "metadata": {},
     "output_type": "execute_result"
    }
   ],
   "source": [
    "# Test the tokenizer : print tokens\n",
    "df_emails_clean['tokens'].head()"
   ]
  },
  {
   "cell_type": "markdown",
   "metadata": {},
   "source": [
    "### Instanciate and fit the Sentiment Detector"
   ]
  },
  {
   "cell_type": "code",
   "execution_count": 9,
   "metadata": {
    "ExecuteTime": {
     "end_time": "2019-09-19T07:47:01.804892Z",
     "start_time": "2019-09-19T07:47:01.795236Z"
    }
   },
   "outputs": [],
   "source": [
    "seed_word_list = ['immatriculation']\n",
    "\n",
    "# Instanciate a SentimentDetector object\n",
    "semantic_detector = SemanticDetector(base_seed_words=seed_word_list, tokens_column='tokens')\n",
    "\n",
    "# Fit the SentimentDetector using the trained embedding\n",
    "semantic_detector.fit(embedding=embedding)"
   ]
  },
  {
   "cell_type": "code",
   "execution_count": 10,
   "metadata": {
    "ExecuteTime": {
     "end_time": "2019-09-19T07:47:01.816535Z",
     "start_time": "2019-09-19T07:47:01.811866Z"
    }
   },
   "outputs": [
    {
     "name": "stdout",
     "output_type": "stream",
     "text": [
      "List of seed words:\n",
      "['immatriculation']\n"
     ]
    }
   ],
   "source": [
    "print('List of seed words:')\n",
    "print(semantic_detector.seed_list)"
   ]
  },
  {
   "cell_type": "code",
   "execution_count": 11,
   "metadata": {
    "ExecuteTime": {
     "end_time": "2019-09-19T07:47:01.840770Z",
     "start_time": "2019-09-19T07:47:01.830624Z"
    }
   },
   "outputs": [
    {
     "name": "stdout",
     "output_type": "stream",
     "text": [
      "(Part of) Lexicon associated with the seed word \"immatriculation\":\n",
      "  00 : -0.0047524148\n",
      "  1 : 0.0007929706\n",
      "  2 : 0.009623149\n",
      "  a : -0.022204418\n",
      "  adresse : 0.09392663\n",
      "  afin : 0.088521965\n",
      "  ainsi : 0.02636172\n",
      "  assurance : -0.09100088\n",
      "  assurer : -0.06255488\n",
      "  attached : -0.037938397\n"
     ]
    }
   ],
   "source": [
    "seed_word = semantic_detector.seed_list[0]\n",
    "lexicon = semantic_detector.lexicon_dict[seed_word]\n",
    "sorted_lexicon = dict(sorted(lexicon.items(), key = lambda x: x[0]))\n",
    "\n",
    "print(f'(Part of) Lexicon associated with the seed word \"{seed_word}\":')\n",
    "for word, sentiment_score in list(sorted_lexicon.items())[:10]:\n",
    "    print('  ' + word + ' : ' + str(sentiment_score))"
   ]
  },
  {
   "cell_type": "markdown",
   "metadata": {},
   "source": [
    "### Predict and print the sentiment score\n",
    "\n",
    "**Warning :** In this exemple, the embedding is trained on a corpus of 40 emails which is much too small to yield valuable results"
   ]
  },
  {
   "cell_type": "code",
   "execution_count": 12,
   "metadata": {
    "ExecuteTime": {
     "end_time": "2019-09-19T07:47:01.878455Z",
     "start_time": "2019-09-19T07:47:01.844257Z"
    }
   },
   "outputs": [
    {
     "data": {
      "text/html": [
       "<div>\n",
       "<style scoped>\n",
       "    .dataframe tbody tr th:only-of-type {\n",
       "        vertical-align: middle;\n",
       "    }\n",
       "\n",
       "    .dataframe tbody tr th {\n",
       "        vertical-align: top;\n",
       "    }\n",
       "\n",
       "    .dataframe thead th {\n",
       "        text-align: right;\n",
       "    }\n",
       "</style>\n",
       "<table border=\"1\" class=\"dataframe\">\n",
       "  <thead>\n",
       "    <tr style=\"text-align: right;\">\n",
       "      <th></th>\n",
       "      <th>clean_body</th>\n",
       "      <th>tokens</th>\n",
       "      <th>semantic_score</th>\n",
       "    </tr>\n",
       "  </thead>\n",
       "  <tbody>\n",
       "    <tr>\n",
       "      <td>29</td>\n",
       "      <td>nous souhaitons declares deux sinistres concer...</td>\n",
       "      <td>[souhaitons, declares, deux, sinistres, concer...</td>\n",
       "      <td>0.055489</td>\n",
       "    </tr>\n",
       "    <tr>\n",
       "      <td>25</td>\n",
       "      <td>pouvez vous repondre aux differentes questions...</td>\n",
       "      <td>[pouvez, repondre, differentes, questions, sou...</td>\n",
       "      <td>0.049126</td>\n",
       "    </tr>\n",
       "    <tr>\n",
       "      <td>20</td>\n",
       "      <td>permettez-moi de vous signaler un changement d...</td>\n",
       "      <td>[permettez-moi, signaler, changement, adresse,...</td>\n",
       "      <td>0.042066</td>\n",
       "    </tr>\n",
       "    <tr>\n",
       "      <td>0</td>\n",
       "      <td>je suis client chez vous pouvez vous m etablir...</td>\n",
       "      <td>[client, chez, pouvez, etablir, flag_name_, fi...</td>\n",
       "      <td>0.041617</td>\n",
       "    </tr>\n",
       "    <tr>\n",
       "      <td>22</td>\n",
       "      <td>numero tel. :  flag_phone_  e-mail :  flag_mai...</td>\n",
       "      <td>[numero, tel, flag_phone_, e-mail, flag_mail_,...</td>\n",
       "      <td>0.041615</td>\n",
       "    </tr>\n",
       "  </tbody>\n",
       "</table>\n",
       "</div>"
      ],
      "text/plain": [
       "                                           clean_body  \\\n",
       "29  nous souhaitons declares deux sinistres concer...   \n",
       "25  pouvez vous repondre aux differentes questions...   \n",
       "20  permettez-moi de vous signaler un changement d...   \n",
       "0   je suis client chez vous pouvez vous m etablir...   \n",
       "22  numero tel. :  flag_phone_  e-mail :  flag_mai...   \n",
       "\n",
       "                                               tokens  semantic_score  \n",
       "29  [souhaitons, declares, deux, sinistres, concer...        0.055489  \n",
       "25  [pouvez, repondre, differentes, questions, sou...        0.049126  \n",
       "20  [permettez-moi, signaler, changement, adresse,...        0.042066  \n",
       "0   [client, chez, pouvez, etablir, flag_name_, fi...        0.041617  \n",
       "22  [numero, tel, flag_phone_, e-mail, flag_mail_,...        0.041615  "
      ]
     },
     "execution_count": 12,
     "metadata": {},
     "output_type": "execute_result"
    }
   ],
   "source": [
    "# Choose the name of the column returned (default is \"score\")\n",
    "return_column = \"semantic_score\"\n",
    "\n",
    "# Predict the sentiment score on each email of the DataFrame\n",
    "df_emails_clean = semantic_detector.predict(df_emails_clean, return_column=return_column)\n",
    "\n",
    "# Print emails with the maximum sentiment score\n",
    "df_emails_clean.sort_values(by=return_column, ascending=False).head()"
   ]
  },
  {
   "cell_type": "markdown",
   "metadata": {},
   "source": [
    "## The SentimentDetector class"
   ]
  },
  {
   "cell_type": "markdown",
   "metadata": {},
   "source": [
    "The SemanticDetector class provides an unsupervised methodology to assign a sentiment score to a corpus of documents/emails. The methodology used to predict a sentiment score using the SemanticDetector is described below:\n",
    "\n",
    "1. **Define a list of seed words that caracterize a sentiment**\n",
    "    - Take a list of seed words as input\n",
    "    - If the `extend_seed_word_list` parameter is set to True: extend the list of seed words with words sharing the same root (dance -> [\"dancing\", \"dancer\"])  \n",
    "    \n",
    "    \n",
    "2. **Fit the model (= create a lexicon for each one of the selected seed words)**\n",
    "    - Create a lexicon for each seed word by computing the cosine similarity between the seed word and all the words in the vocabulary is computed. \n",
    "    - To compute cosine similarities, a trained embedding is required.  \n",
    "    \n",
    "    \n",
    "3. **Predict a sentiment score for emails/documents**\n",
    "    - Filter out the tokens in the document that are not in the vocabulary.\n",
    "    - For each remaining token, compute its sentiment score using the different lexicons.\n",
    "    - For each token, aggregate the score accross different seeds\n",
    "    - For each email, aggregate the score accross different tokens"
   ]
  },
  {
   "cell_type": "markdown",
   "metadata": {},
   "source": [
    "The arguments of a SemanticDetector object are :\n",
    "    \n",
    "- **base_seed_words :** the list of seed words that caracterize a sentiment\n",
    "- **tokens_column :** name of the column in the input DataFrame that contains tokens\n",
    "- **extend_seed_word_list :** if True: complement seed words with words sharing the same root (dance -> [\"dancing\", \"dancer\"]). Default value False.\n",
    "- **normalize_scores :** if True: normalize the lexicon scores of eache word. Default value False.\n",
    "- **aggregation_function_seed_wise :** Function to aggregate the scores associated with a token accross the different seeds. Default function is a max.\n",
    "- **aggregation_function_email_wise :** Function to aggregate the scores associated with the different tokens in an email. Default function is the 60th percentile.\n",
    "- **n_jobs :** the number of cores used for computation. Default value, 1."
   ]
  },
  {
   "cell_type": "markdown",
   "metadata": {},
   "source": [
    "## Find extra seed words with the `extend_seed_word_list` parameter"
   ]
  },
  {
   "cell_type": "markdown",
   "metadata": {},
   "source": [
    "The SentimentDetector \"extend_seed_word_list\" parameter activates the search for extra seed words sharing the same root as the base seed words.  \n",
    "\n",
    "For example, if \"dance\" is a base seed word, \"extend_seed_word_list\" will loop through the words in the embedding vocabulary and find new seed words such as \"dancer\", \"dancing\"."
   ]
  },
  {
   "cell_type": "code",
   "execution_count": 13,
   "metadata": {
    "ExecuteTime": {
     "end_time": "2019-09-19T07:47:01.902856Z",
     "start_time": "2019-09-19T07:47:01.880445Z"
    }
   },
   "outputs": [],
   "source": [
    "# Instanciate a SentimentDetector object\n",
    "semantic_detector_extended_seed = SemanticDetector(\n",
    "    base_seed_words=['tel', 'assur'], tokens_column='tokens', extend_seed_word_list=True)\n",
    "\n",
    "# Fit the SentimentDetector using the trained embedding\n",
    "semantic_detector_extended_seed.fit(embedding=embedding)"
   ]
  },
  {
   "cell_type": "code",
   "execution_count": 14,
   "metadata": {
    "ExecuteTime": {
     "end_time": "2019-09-19T07:47:01.910830Z",
     "start_time": "2019-09-19T07:47:01.904628Z"
    }
   },
   "outputs": [
    {
     "name": "stdout",
     "output_type": "stream",
     "text": [
      "{'tel': ['telephonique', 'telephone', 'tel'], 'assur': ['assurance', 'assurer']}\n",
      "['telephonique', 'telephone', 'tel', 'assurance', 'assurer']\n"
     ]
    }
   ],
   "source": [
    "# Print the extended list of seed words\n",
    "print(semantic_detector_extended_seed.seed_dict)\n",
    "print(semantic_detector_extended_seed.seed_list)"
   ]
  },
  {
   "cell_type": "markdown",
   "metadata": {},
   "source": [
    "## Use a custom function to aggregate lexicon scores"
   ]
  },
  {
   "cell_type": "markdown",
   "metadata": {},
   "source": [
    "### Parse an email using lexicons\n",
    "The SentimentDetector creates a Lexicon for each seed word, therefore, when parsing an email, a score is obtained for each token and each lexicon.  \n",
    "\n",
    "Exemple : \n",
    "- Sentence : \"Hello, I like ponies\"\n",
    "- Seed word list : [\"horse\", \"animal\"]\n",
    "- Embedding : simulated\n",
    "\n",
    "Lexicon \"horse\" :\n",
    "{\n",
    "  \"apple\" : 0.2,\n",
    "  ...\n",
    "  \"hello\" : 0.1,\n",
    "  ...\n",
    "  \"ponies\" : 8.8,\n",
    "  ...\n",
    "  \"zebra\" : 1.2\n",
    "}  \n",
    "Lexicon \"animal\" :\n",
    "{\n",
    "  \"apple\" : 0.1,\n",
    "  ...\n",
    "  \"hello\" : 0.3,\n",
    "  ...\n",
    "  \"ponies\" : 4.8,\n",
    "  ...\n",
    "  \"zebra\" : 6.2\n",
    "}\n",
    "\n",
    "Sentence score :\n",
    "- \"horse\" score : 0.1 + 0.3 + 0.2 + 8.8\n",
    "- \"animal\" score : 0.3 + 0.2 + 0.2 + 4.8\n",
    "\n",
    "\n",
    "After parsing, N_token * N_seed scores are obtained and an aggregation  function is necessary to obtain a single sentiment_score for the email."
   ]
  },
  {
   "cell_type": "markdown",
   "metadata": {},
   "source": [
    "### Aggregate the score obtained for the different tokens\n",
    "\n",
    "The default aggregation methodology is the following:  \n",
    "- Seed-wise aggregation : For a token, take the max score accross seed\n",
    "  - Exemple :  \n",
    "    ponies_score = 8.8 (lexicon \"horse\")   \n",
    "    ponies_score = 4.8 (lexicon \"animal\")  \n",
    "    => Score for the \"ponies\" token = np.max(8.8, 4.8) = 8.8  \n",
    "  \n",
    "  \n",
    "- Email-wise aggregation : Given a list of token scores, take the percentile 60 as the sentiment_score for the email\n",
    "  - Exemple :  \n",
    "    token_score_list : [0.3 (hello), 0.3 (i), 0.2 (ponies)]  \n",
    "    => sentiment_score = np.percentile([0.3, 0.3, 0.2, 8.8], 60) = 0.3  "
   ]
  },
  {
   "cell_type": "code",
   "execution_count": 15,
   "metadata": {
    "ExecuteTime": {
     "end_time": "2019-09-19T07:47:01.956441Z",
     "start_time": "2019-09-19T07:47:01.912870Z"
    }
   },
   "outputs": [],
   "source": [
    "# Instanciate a SentimentDetector object with custom aggregation function:\n",
    "# - A mean for the seed-wise aggregation\n",
    "# - A 95th percentile for the email-wise aggregation\n",
    "\n",
    "semantic_detector_custom_aggregation = SemanticDetector(\n",
    "    base_seed_words=['client'], \n",
    "    tokens_column='tokens', \n",
    "    aggregation_function_seed_wise=np.mean,\n",
    "    aggregation_function_email_wise=lambda x: np.percentile(x, 95)\n",
    ")\n",
    "\n",
    "# Fit the SentimentDetector using the trained embedding\n",
    "semantic_detector_custom_aggregation.fit(embedding=embedding)\n",
    "\n",
    "# Predict the sentiment score on each email of the DataFrame\n",
    "df_emails_clean_custom_aggregation = semantic_detector_custom_aggregation.predict(df_emails_clean)"
   ]
  }
 ],
 "metadata": {
  "kernelspec": {
   "display_name": "Python 3",
   "language": "python",
   "name": "python3"
  },
  "language_info": {
   "codemirror_mode": {
    "name": "ipython",
    "version": 3
   },
   "file_extension": ".py",
   "mimetype": "text/x-python",
   "name": "python",
   "nbconvert_exporter": "python",
   "pygments_lexer": "ipython3",
   "version": "3.7.0"
  },
  "toc": {
   "base_numbering": 1,
   "nav_menu": {},
   "number_sections": true,
   "sideBar": true,
   "skip_h1_title": false,
   "title_cell": "Table of Contents",
   "title_sidebar": "Contents",
   "toc_cell": false,
   "toc_position": {},
   "toc_section_display": true,
   "toc_window_display": false
  },
  "varInspector": {
   "cols": {
    "lenName": 16,
    "lenType": 16,
    "lenVar": 40
   },
   "kernels_config": {
    "python": {
     "delete_cmd_postfix": "",
     "delete_cmd_prefix": "del ",
     "library": "var_list.py",
     "varRefreshCmd": "print(var_dic_list())"
    },
    "r": {
     "delete_cmd_postfix": ") ",
     "delete_cmd_prefix": "rm(",
     "library": "var_list.r",
     "varRefreshCmd": "cat(var_dic_list()) "
    }
   },
   "types_to_exclude": [
    "module",
    "function",
    "builtin_function_or_method",
    "instance",
    "_Feature"
   ],
   "window_display": false
  }
 },
 "nbformat": 4,
 "nbformat_minor": 2
}
