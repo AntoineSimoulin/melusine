{
 "cells": [
  {
   "cell_type": "markdown",
   "metadata": {},
   "source": [
    "# Unsupervised Semantic Analysis tutorial"
   ]
  },
  {
   "cell_type": "markdown",
   "metadata": {},
   "source": [
    "The **SemanticDetector** class is used to predict a sentiment score in a document / email.\n",
    "\n",
    "For that purpose, two inputs are required:\n",
    "- a list of seed words that caracterize a sentiment \n",
    "  Exemple : the seed words [\"mad\", \"furious\", \"insane\"] caracterize the sentiment \"dissatisfaction\"\n",
    "- a trained embedding (Melusine **Embedding** class instance) to compute distances between words/tokens\n",
    "\n",
    "The three steps for sentiment score prediction are the following:\n",
    "- Instanciate a SentimentDetector object with a list of seed words as argument\n",
    "- Use the SentimentDetector.fit method (with an embedding object as argument) to compute the lexicons\n",
    "- Use the SentimentDetector.predict method on a document/email DataFrame to predict the sentiment score"
   ]
  },
  {
   "cell_type": "markdown",
   "metadata": {},
   "source": [
    "## Minimal working exemple"
   ]
  },
  {
   "cell_type": "code",
   "execution_count": 2,
   "metadata": {
    "ExecuteTime": {
     "end_time": "2019-10-08T16:14:28.753683Z",
     "start_time": "2019-10-08T16:14:25.948564Z"
    }
   },
   "outputs": [],
   "source": [
    "import pandas as pd\n",
    "import numpy as np\n",
    "\n",
    "# NLP tools\n",
    "from melusine.nlp_tools.embedding import Embedding\n",
    "from melusine.nlp_tools.tokenizer import Tokenizer\n",
    "\n",
    "# Models\n",
    "from melusine.models.modeler_semantic import SemanticDetector"
   ]
  },
  {
   "cell_type": "markdown",
   "metadata": {},
   "source": [
    "### Load email data"
   ]
  },
  {
   "cell_type": "code",
   "execution_count": 3,
   "metadata": {
    "ExecuteTime": {
     "end_time": "2019-10-08T16:14:28.772691Z",
     "start_time": "2019-10-08T16:14:28.757293Z"
    }
   },
   "outputs": [],
   "source": [
    "df_emails_clean = pd.read_csv('./data/emails_preprocessed.csv', encoding='utf-8', sep=';')\n",
    "df_emails_clean = df_emails_clean[['clean_body']]\n",
    "df_emails_clean = df_emails_clean.astype(str)"
   ]
  },
  {
   "cell_type": "markdown",
   "metadata": {},
   "source": [
    "### Embedding"
   ]
  },
  {
   "cell_type": "code",
   "execution_count": 4,
   "metadata": {
    "ExecuteTime": {
     "end_time": "2019-10-08T16:14:28.960866Z",
     "start_time": "2019-10-08T16:14:28.774146Z"
    }
   },
   "outputs": [],
   "source": [
    "# Train an embedding using the text data in the 'clean_body' column\n",
    "embedding = Embedding(input_column='clean_body', size=300, min_count=2)\n",
    "embedding.train(df_emails_clean)"
   ]
  },
  {
   "cell_type": "code",
   "execution_count": 5,
   "metadata": {
    "ExecuteTime": {
     "end_time": "2019-10-08T16:14:28.972840Z",
     "start_time": "2019-10-08T16:14:28.962394Z"
    }
   },
   "outputs": [
    {
     "data": {
      "text/plain": [
       "['client', 'chez', 'pouvez']"
      ]
     },
     "execution_count": 5,
     "metadata": {},
     "output_type": "execute_result"
    }
   ],
   "source": [
    "# Print a list of words present in the Embedding vocabulary\n",
    "list(embedding.embedding.vocab.keys())[:3]"
   ]
  },
  {
   "cell_type": "code",
   "execution_count": 6,
   "metadata": {
    "ExecuteTime": {
     "end_time": "2019-10-08T16:14:28.981583Z",
     "start_time": "2019-10-08T16:14:28.976931Z"
    }
   },
   "outputs": [
    {
     "data": {
      "text/plain": [
       "[('lundi', 0.11570599675178528),\n",
       " ('parking', 0.0929856076836586),\n",
       " ('comme', 0.0910312682390213)]"
      ]
     },
     "execution_count": 6,
     "metadata": {},
     "output_type": "execute_result"
    }
   ],
   "source": [
    "# Test the trained embedding : print most similar words\n",
    "embedding.embedding.most_similar('client', topn=3)"
   ]
  },
  {
   "cell_type": "markdown",
   "metadata": {},
   "source": [
    "### Tokenizer"
   ]
  },
  {
   "cell_type": "code",
   "execution_count": 7,
   "metadata": {
    "ExecuteTime": {
     "end_time": "2019-10-08T16:14:29.009402Z",
     "start_time": "2019-10-08T16:14:28.983314Z"
    }
   },
   "outputs": [],
   "source": [
    "# Tokenize the text in the clean_body column\n",
    "tokenizer = Tokenizer (input_column='clean_body', stop_removal=True, n_jobs=20)\n",
    "df_emails_clean = tokenizer.fit_transform(df_emails_clean)"
   ]
  },
  {
   "cell_type": "code",
   "execution_count": 8,
   "metadata": {
    "ExecuteTime": {
     "end_time": "2019-10-08T16:14:29.020422Z",
     "start_time": "2019-10-08T16:14:29.011047Z"
    }
   },
   "outputs": [
    {
     "data": {
      "text/plain": [
       "0    [client, chez, pouvez, etablir, flag_name_, fi...\n",
       "1    [informe, nouvelle, immatriculation, enfin, fa...\n",
       "2    [suite, a, conversation, telephonique, mardi, ...\n",
       "3    [fais, suite, a, mail, envoye, bulletin, salai...\n",
       "4    [voici, ci, joint, bulletin, salaire, comme, d...\n",
       "Name: tokens, dtype: object"
      ]
     },
     "execution_count": 8,
     "metadata": {},
     "output_type": "execute_result"
    }
   ],
   "source": [
    "# Test the tokenizer : print tokens\n",
    "df_emails_clean['tokens'].head()"
   ]
  },
  {
   "cell_type": "markdown",
   "metadata": {},
   "source": [
    "### Instanciate and fit the Sentiment Detector"
   ]
  },
  {
   "cell_type": "code",
   "execution_count": 9,
   "metadata": {
    "ExecuteTime": {
     "end_time": "2019-10-08T16:14:29.030843Z",
     "start_time": "2019-10-08T16:14:29.022583Z"
    }
   },
   "outputs": [],
   "source": [
    "seed_word_list = ['immatriculation']\n",
    "\n",
    "# Instanciate a SentimentDetector object\n",
    "semantic_detector = SemanticDetector(base_seed_words=seed_word_list, tokens_column='tokens')\n",
    "\n",
    "# Fit the SentimentDetector using the trained embedding\n",
    "semantic_detector.fit(embedding=embedding)"
   ]
  },
  {
   "cell_type": "code",
   "execution_count": 10,
   "metadata": {
    "ExecuteTime": {
     "end_time": "2019-10-08T16:14:29.049176Z",
     "start_time": "2019-10-08T16:14:29.037819Z"
    }
   },
   "outputs": [
    {
     "name": "stdout",
     "output_type": "stream",
     "text": [
      "List of seed words:\n",
      "['immatriculation']\n"
     ]
    }
   ],
   "source": [
    "print('List of seed words:')\n",
    "print(semantic_detector.seed_list)"
   ]
  },
  {
   "cell_type": "code",
   "execution_count": 11,
   "metadata": {
    "ExecuteTime": {
     "end_time": "2019-10-08T16:14:29.073476Z",
     "start_time": "2019-10-08T16:14:29.057861Z"
    }
   },
   "outputs": [
    {
     "name": "stdout",
     "output_type": "stream",
     "text": [
      "(Part of) Lexicon associated with the seed word \"immatriculation\":\n",
      "  00 : -0.01054505\n",
      "  1 : -0.028735867\n",
      "  2 : 0.034027718\n",
      "  a : -0.05048247\n",
      "  adresse : -0.12165247\n",
      "  afin : 0.03517899\n",
      "  ainsi : -0.05758333\n",
      "  assurance : 0.061626766\n",
      "  assurer : 0.06983626\n",
      "  attached : -0.027480457\n"
     ]
    }
   ],
   "source": [
    "seed_word = semantic_detector.seed_list[0]\n",
    "lexicon = semantic_detector.lexicon_dict[seed_word]\n",
    "sorted_lexicon = dict(sorted(lexicon.items(), key = lambda x: x[0]))\n",
    "\n",
    "print(f'(Part of) Lexicon associated with the seed word \"{seed_word}\":')\n",
    "for word, sentiment_score in list(sorted_lexicon.items())[:10]:\n",
    "    print('  ' + word + ' : ' + str(sentiment_score))"
   ]
  },
  {
   "cell_type": "markdown",
   "metadata": {},
   "source": [
    "### Predict and print the sentiment score\n",
    "\n",
    "**Warning :** In this exemple, the embedding is trained on a corpus of 40 emails which is WAY too small to yield valuable results"
   ]
  },
  {
   "cell_type": "code",
   "execution_count": 12,
   "metadata": {
    "ExecuteTime": {
     "end_time": "2019-10-08T16:14:29.107534Z",
     "start_time": "2019-10-08T16:14:29.076685Z"
    }
   },
   "outputs": [
    {
     "data": {
      "text/html": [
       "<div>\n",
       "<style scoped>\n",
       "    .dataframe tbody tr th:only-of-type {\n",
       "        vertical-align: middle;\n",
       "    }\n",
       "\n",
       "    .dataframe tbody tr th {\n",
       "        vertical-align: top;\n",
       "    }\n",
       "\n",
       "    .dataframe thead th {\n",
       "        text-align: right;\n",
       "    }\n",
       "</style>\n",
       "<table border=\"1\" class=\"dataframe\">\n",
       "  <thead>\n",
       "    <tr style=\"text-align: right;\">\n",
       "      <th></th>\n",
       "      <th>clean_body</th>\n",
       "      <th>tokens</th>\n",
       "      <th>semantic_score</th>\n",
       "    </tr>\n",
       "  </thead>\n",
       "  <tbody>\n",
       "    <tr>\n",
       "      <td>17</td>\n",
       "      <td>vous trouverez ci-joint le certificat de cessi...</td>\n",
       "      <td>[trouverez, ci-joint, certificat, cession, att...</td>\n",
       "      <td>0.058515</td>\n",
       "    </tr>\n",
       "    <tr>\n",
       "      <td>6</td>\n",
       "      <td>j emmenage dans un nouveau studio le vendredi ...</td>\n",
       "      <td>[emmenage, nouveau, studio, vendredi, flag_dat...</td>\n",
       "      <td>0.054315</td>\n",
       "    </tr>\n",
       "    <tr>\n",
       "      <td>7</td>\n",
       "      <td>je me permets de venir vers vous car depuis le...</td>\n",
       "      <td>[permets, venir, vers, car, depuis, debut, ann...</td>\n",
       "      <td>0.049436</td>\n",
       "    </tr>\n",
       "    <tr>\n",
       "      <td>15</td>\n",
       "      <td>je vous remercie pour l attestation demandee p...</td>\n",
       "      <td>[remercie, attestation, demandee, telephone, r...</td>\n",
       "      <td>0.045309</td>\n",
       "    </tr>\n",
       "    <tr>\n",
       "      <td>8</td>\n",
       "      <td>voici la copie du virement effectuer a ce jour...</td>\n",
       "      <td>[voici, copie, virement, effectuer, a, jour, s...</td>\n",
       "      <td>0.042764</td>\n",
       "    </tr>\n",
       "  </tbody>\n",
       "</table>\n",
       "</div>"
      ],
      "text/plain": [
       "                                           clean_body  \\\n",
       "17  vous trouverez ci-joint le certificat de cessi...   \n",
       "6   j emmenage dans un nouveau studio le vendredi ...   \n",
       "7   je me permets de venir vers vous car depuis le...   \n",
       "15  je vous remercie pour l attestation demandee p...   \n",
       "8   voici la copie du virement effectuer a ce jour...   \n",
       "\n",
       "                                               tokens  semantic_score  \n",
       "17  [trouverez, ci-joint, certificat, cession, att...        0.058515  \n",
       "6   [emmenage, nouveau, studio, vendredi, flag_dat...        0.054315  \n",
       "7   [permets, venir, vers, car, depuis, debut, ann...        0.049436  \n",
       "15  [remercie, attestation, demandee, telephone, r...        0.045309  \n",
       "8   [voici, copie, virement, effectuer, a, jour, s...        0.042764  "
      ]
     },
     "execution_count": 12,
     "metadata": {},
     "output_type": "execute_result"
    }
   ],
   "source": [
    "# Choose the name of the column returned (default is \"score\")\n",
    "return_column = \"semantic_score\"\n",
    "\n",
    "# Predict the sentiment score on each email of the DataFrame\n",
    "df_emails_clean = semantic_detector.predict(df_emails_clean, return_column=return_column)\n",
    "\n",
    "# Print emails with the maximum sentiment score\n",
    "df_emails_clean.sort_values(by=return_column, ascending=False).head()"
   ]
  },
  {
   "cell_type": "markdown",
   "metadata": {},
   "source": [
    "## The SentimentDetector class"
   ]
  },
  {
   "cell_type": "markdown",
   "metadata": {},
   "source": [
    "The SemanticDetector class provides an unsupervised methodology to assign a sentiment score to a corpus of documents/emails. The methodology used to predict a sentiment score using the SemanticDetector is described below:\n",
    "\n",
    "1. **Define a list of seed words that caracterize a sentiment**\n",
    "    - Take a list of seed words as input\n",
    "    - If the `extend_seed_word_list` parameter is set to True: extend the list of seed words with words sharing the same root (dance -> [\"dancing\", \"dancer\"])  \n",
    "    \n",
    "    \n",
    "2. **Fit the model (= create a lexicon for each one of the selected seed words)**\n",
    "    - Create a lexicon for each seed word by computing the cosine similarity between the seed word and all the words in the vocabulary is computed. \n",
    "    - To compute cosine similarities, a trained embedding is required.  \n",
    "    \n",
    "    \n",
    "3. **Predict a sentiment score for emails/documents**\n",
    "    - Filter out the tokens in the document that are not in the vocabulary.\n",
    "    - For each remaining token, compute its sentiment score using the different lexicons.\n",
    "    - For each token, aggregate the score accross different seeds\n",
    "    - For each email, aggregate the score accross different tokens"
   ]
  },
  {
   "cell_type": "markdown",
   "metadata": {},
   "source": [
    "The arguments of a SemanticDetector object are :\n",
    "    \n",
    "- **base_seed_words :** the list of seed words that caracterize a sentiment\n",
    "- **tokens_column :** name of the column in the input DataFrame that contains tokens\n",
    "- **extend_seed_word_list :** if True: complement seed words with words sharing the same root (dance -> [\"dancing\", \"dancer\"]). Default value False.\n",
    "- **normalize_scores :** if True: normalize the lexicon scores of eache word. Default value False.\n",
    "- **aggregation_function_seed_wise :** Function to aggregate the scores associated with a token accross the different seeds. Default function is a max.\n",
    "- **aggregation_function_email_wise :** Function to aggregate the scores associated with the different tokens in an email. Default function is the 60th percentile.\n",
    "- **n_jobs :** the number of cores used for computation. Default value, 1."
   ]
  },
  {
   "cell_type": "markdown",
   "metadata": {},
   "source": [
    "## Find extra seed words with the `extend_seed_word_list` parameter"
   ]
  },
  {
   "cell_type": "markdown",
   "metadata": {},
   "source": [
    "The SentimentDetector \"extend_seed_word_list\" parameter activates the search for extra seed words sharing the same root as the base seed words.  \n",
    "\n",
    "For example, if \"dance\" is a base seed word, \"extend_seed_word_list\" will loop through the words in the embedding vocabulary and find new seed words such as \"dancer\", \"dancing\"."
   ]
  },
  {
   "cell_type": "code",
   "execution_count": 13,
   "metadata": {
    "ExecuteTime": {
     "end_time": "2019-10-08T16:14:29.126981Z",
     "start_time": "2019-10-08T16:14:29.109656Z"
    }
   },
   "outputs": [],
   "source": [
    "# Instanciate a SentimentDetector object\n",
    "semantic_detector_extended_seed = SemanticDetector(\n",
    "    base_seed_words=['tel', 'assur'], tokens_column='tokens', extend_seed_word_list=True)\n",
    "\n",
    "# Fit the SentimentDetector using the trained embedding\n",
    "semantic_detector_extended_seed.fit(embedding=embedding)"
   ]
  },
  {
   "cell_type": "code",
   "execution_count": 14,
   "metadata": {
    "ExecuteTime": {
     "end_time": "2019-10-08T16:14:29.133406Z",
     "start_time": "2019-10-08T16:14:29.128798Z"
    }
   },
   "outputs": [
    {
     "name": "stdout",
     "output_type": "stream",
     "text": [
      "{'tel': ['telephonique', 'telephone', 'tel'], 'assur': ['assurance', 'assurer']}\n",
      "['telephonique', 'telephone', 'tel', 'assurance', 'assurer']\n"
     ]
    }
   ],
   "source": [
    "# Print the extended list of seed words\n",
    "print(semantic_detector_extended_seed.seed_dict)\n",
    "print(semantic_detector_extended_seed.seed_list)"
   ]
  },
  {
   "cell_type": "markdown",
   "metadata": {},
   "source": [
    "## Use a custom function to aggregate lexicon scores"
   ]
  },
  {
   "cell_type": "markdown",
   "metadata": {},
   "source": [
    "### Parse an email using lexicons\n",
    "The SentimentDetector creates a Lexicon for each seed word, therefore, when parsing an email, a score is obtained for each token and each lexicon.  \n",
    "\n",
    "Exemple : \n",
    "- Sentence : \"Hello, I like ponies\"\n",
    "- Seed word list : [\"horse\", \"animal\"]\n",
    "- Embedding : simulated\n",
    "\n",
    "Lexicon \"horse\" :\n",
    "{\n",
    "  \"apple\" : 0.2,\n",
    "  ...\n",
    "  \"hello\" : 0.1,\n",
    "  ...\n",
    "  \"ponies\" : 8.8,\n",
    "  ...\n",
    "  \"zebra\" : 1.2\n",
    "}  \n",
    "Lexicon \"animal\" :\n",
    "{\n",
    "  \"apple\" : 0.1,\n",
    "  ...\n",
    "  \"hello\" : 0.3,\n",
    "  ...\n",
    "  \"ponies\" : 4.8,\n",
    "  ...\n",
    "  \"zebra\" : 6.2\n",
    "}\n",
    "\n",
    "Sentence score :\n",
    "- \"horse\" score : 0.1 + 0.3 + 0.2 + 8.8\n",
    "- \"animal\" score : 0.3 + 0.2 + 0.2 + 4.8\n",
    "\n",
    "\n",
    "After parsing, N_token * N_seed scores are obtained and an aggregation  function is necessary to obtain a single sentiment_score for the email."
   ]
  },
  {
   "cell_type": "markdown",
   "metadata": {},
   "source": [
    "### Aggregate the score obtained for the different tokens\n",
    "\n",
    "The default aggregation methodology is the following:  \n",
    "- Seed-wise aggregation : For a token, take the max score accross seed\n",
    "  - Exemple :  \n",
    "    ponies_score = 8.8 (lexicon \"horse\")   \n",
    "    ponies_score = 4.8 (lexicon \"animal\")  \n",
    "    => Score for the \"ponies\" token = np.max(8.8, 4.8) = 8.8  \n",
    "  \n",
    "  \n",
    "- Email-wise aggregation : Given a list of token scores, take the percentile 60 as the sentiment_score for the email\n",
    "  - Exemple :  \n",
    "    token_score_list : [0.3 (hello), 0.3 (i), 0.2 (ponies)]  \n",
    "    => sentiment_score = np.percentile([0.3, 0.3, 0.2, 8.8], 60) = 0.3  "
   ]
  },
  {
   "cell_type": "code",
   "execution_count": 15,
   "metadata": {
    "ExecuteTime": {
     "end_time": "2019-10-08T16:14:29.162650Z",
     "start_time": "2019-10-08T16:14:29.135370Z"
    }
   },
   "outputs": [],
   "source": [
    "# Instanciate a SentimentDetector object with custom aggregation function:\n",
    "# - A mean for the seed-wise aggregation\n",
    "# - A 95th percentile for the email-wise aggregation\n",
    "\n",
    "semantic_detector_custom_aggregation = SemanticDetector(\n",
    "    base_seed_words=['client'], \n",
    "    tokens_column='tokens', \n",
    "    aggregation_function_seed_wise=np.mean,\n",
    "    aggregation_function_email_wise=lambda x: np.percentile(x, 95)\n",
    ")\n",
    "\n",
    "# Fit the SentimentDetector using the trained embedding\n",
    "semantic_detector_custom_aggregation.fit(embedding=embedding)\n",
    "\n",
    "# Predict the sentiment score on each email of the DataFrame\n",
    "df_emails_clean_custom_aggregation = semantic_detector_custom_aggregation.predict(df_emails_clean)"
   ]
  },
  {
   "cell_type": "markdown",
   "metadata": {},
   "source": [
    "## Multiprocessing"
   ]
  },
  {
   "cell_type": "code",
   "execution_count": 16,
   "metadata": {
    "ExecuteTime": {
     "end_time": "2019-10-08T16:14:30.233091Z",
     "start_time": "2019-10-08T16:14:29.165788Z"
    }
   },
   "outputs": [],
   "source": [
    "semantic_detector_multiprocessing = SemanticDetector(\n",
    "    base_seed_words=['certificat'], \n",
    "    tokens_column='tokens', \n",
    "    n_jobs = 2\n",
    ")\n",
    "\n",
    "# Fit the SentimentDetector using the trained embedding\n",
    "semantic_detector_multiprocessing.fit(embedding=embedding)\n",
    "\n",
    "# Predict the sentiment score on each email of the DataFrame\n",
    "df_emails_multiprocessing = semantic_detector_multiprocessing.predict(df_emails_clean)"
   ]
  }
 ],
 "metadata": {
  "kernelspec": {
   "display_name": "Python 3",
   "language": "python",
   "name": "python3"
  },
  "language_info": {
   "codemirror_mode": {
    "name": "ipython",
    "version": 3
   },
   "file_extension": ".py",
   "mimetype": "text/x-python",
   "name": "python",
   "nbconvert_exporter": "python",
   "pygments_lexer": "ipython3",
   "version": "3.7.0"
  },
  "toc": {
   "base_numbering": 1.0,
   "nav_menu": {},
   "number_sections": true,
   "sideBar": true,
   "skip_h1_title": false,
   "title_cell": "Table of Contents",
   "title_sidebar": "Contents",
   "toc_cell": false,
   "toc_position": {},
   "toc_section_display": true,
   "toc_window_display": false
  },
  "varInspector": {
   "cols": {
    "lenName": 16.0,
    "lenType": 16.0,
    "lenVar": 40.0
   },
   "kernels_config": {
    "python": {
     "delete_cmd_postfix": "",
     "delete_cmd_prefix": "del ",
     "library": "var_list.py",
     "varRefreshCmd": "print(var_dic_list())"
    },
    "r": {
     "delete_cmd_postfix": ") ",
     "delete_cmd_prefix": "rm(",
     "library": "var_list.r",
     "varRefreshCmd": "cat(var_dic_list()) "
    }
   },
   "types_to_exclude": [
    "module",
    "function",
    "builtin_function_or_method",
    "instance",
    "_Feature"
   ],
   "window_display": false
  }
 },
 "nbformat": 4,
 "nbformat_minor": 2
}
