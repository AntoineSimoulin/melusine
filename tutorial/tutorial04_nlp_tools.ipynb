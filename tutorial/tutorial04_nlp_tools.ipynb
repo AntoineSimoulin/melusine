{
 "cells": [
  {
   "cell_type": "markdown",
   "metadata": {},
   "source": [
    "# NLP Tools tutorial"
   ]
  },
  {
   "cell_type": "markdown",
   "metadata": {},
   "source": [
    "The **nlp_tools** subpackage offers classic NLP tools implemented as classes that will be used to preprocess an already cleaned text :\n",
    "- a **Phraser class** : to transform common multi-word expressions into single elements (*new york* becomes *new_york*)\n",
    "- a **Tokenizer class** : to split a sentence-like string into a list of sub-strings (tokens).\n",
    "- an **Embedding class** : to represent of words in a lower dimensional vector space."
   ]
  },
  {
   "cell_type": "markdown",
   "metadata": {},
   "source": [
    "## The Phraser class"
   ]
  },
  {
   "cell_type": "markdown",
   "metadata": {},
   "source": [
    "The Phraser class transforms common multi-word expressions into single elements: for example *new york* becomes *new_york*."
   ]
  },
  {
   "cell_type": "markdown",
   "metadata": {},
   "source": [
    "The arguments of a Phraser object are:\n",
    "- **input_column :** the name of the column of the dataframe that will be used as input for the training of the Phraser.\n",
    "- **common_terms :** list of stopwords to be ignored. The default list is defined in the *conf.json* file.\n",
    "- **threshold :** threshold to select collocations.\n",
    "- **min_count :** minimum count of word to be selected as collocation."
   ]
  },
  {
   "cell_type": "code",
   "execution_count": 1,
   "metadata": {},
   "outputs": [],
   "source": [
    "from melusine.nlp_tools.phraser import Phraser\n",
    "\n",
    "phraser = Phraser(input_column='clean_body',\n",
    "                  threshold=10,\n",
    "                  min_count=10)"
   ]
  },
  {
   "cell_type": "markdown",
   "metadata": {},
   "source": [
    "#### Training a phraser"
   ]
  },
  {
   "cell_type": "markdown",
   "metadata": {},
   "source": [
    "The input dataframe must contain a column with a clean text : **a sentence-like string with only lowcase letters and no accents**."
   ]
  },
  {
   "cell_type": "code",
   "execution_count": 2,
   "metadata": {},
   "outputs": [],
   "source": [
    "import pandas as pd\n",
    "\n",
    "df_emails_clean = pd.read_csv('./data/emails_preprocessed.csv', encoding='utf-8', sep=';')\n",
    "df_emails_clean = df_emails_clean[['clean_body']]\n",
    "df_emails_clean = df_emails_clean.astype(str)"
   ]
  },
  {
   "cell_type": "code",
   "execution_count": 3,
   "metadata": {},
   "outputs": [
    {
     "data": {
      "text/plain": [
       "'je vous informe que la nouvelle immatriculation est enfin faite. je vous prie de trouver donc la carte grise ainsi que la nouvelle immatriculation. je vous demanderai de faire les changements necessaires concernant l assurance.'"
      ]
     },
     "execution_count": 3,
     "metadata": {},
     "output_type": "execute_result"
    }
   ],
   "source": [
    "df_emails_clean.clean_body[1]"
   ]
  },
  {
   "cell_type": "code",
   "execution_count": 4,
   "metadata": {},
   "outputs": [],
   "source": [
    "phraser.train(df_emails_clean)"
   ]
  },
  {
   "cell_type": "markdown",
   "metadata": {},
   "source": [
    "#### Saving a phraser"
   ]
  },
  {
   "cell_type": "code",
   "execution_count": 5,
   "metadata": {},
   "outputs": [],
   "source": [
    "phraser.save('./data/phraser.pickle')"
   ]
  },
  {
   "cell_type": "markdown",
   "metadata": {},
   "source": [
    "#### Loading a phraser"
   ]
  },
  {
   "cell_type": "code",
   "execution_count": 6,
   "metadata": {},
   "outputs": [],
   "source": [
    "phraser = Phraser().load('./data/phraser.pickle')"
   ]
  },
  {
   "cell_type": "markdown",
   "metadata": {},
   "source": [
    "#### Applying a phraser"
   ]
  },
  {
   "cell_type": "markdown",
   "metadata": {},
   "source": [
    "The main method of a Phraser object is its *train* method. To apply a specifi phraser it has to be passed as an argument to one of the following functions :\n",
    "- **phraser_on_body :** to apply the phraser on the *clean_body* column of a dataframe\n",
    "- **phraser_on_header :** to apply the phraser on the *clean_header* column of a dataframe\n",
    "\n",
    "The **phraser_on_body** and **phraser_on_header** functions are applied on rows of dataframes."
   ]
  },
  {
   "cell_type": "code",
   "execution_count": 7,
   "metadata": {},
   "outputs": [
    {
     "data": {
      "text/plain": [
       "'je vous informe que la nouvelle immatriculation est enfin faite. je vous prie de trouver donc la carte grise ainsi que la nouvelle immatriculation. je vous demanderai de faire les changements necessaires concernant l assurance.'"
      ]
     },
     "execution_count": 7,
     "metadata": {},
     "output_type": "execute_result"
    }
   ],
   "source": [
    "from melusine.nlp_tools.phraser import phraser_on_body\n",
    "\n",
    "row = df_emails_clean.loc[1,:]\n",
    "\n",
    "phraser_on_body(row, phraser)"
   ]
  },
  {
   "cell_type": "markdown",
   "metadata": {},
   "source": [
    "Because the **phraser_on_body** and **phraser_on_header** functions are applied on rows of dataframes, they have to be passed as arguments of a **TransferScheduler object** in order to be applied on a whole dataframe."
   ]
  },
  {
   "cell_type": "code",
   "execution_count": 8,
   "metadata": {},
   "outputs": [],
   "source": [
    "from melusine.utils.transformer_scheduler import TransformerScheduler\n",
    "\n",
    "PhraserTransformer = TransformerScheduler(\n",
    "    functions_scheduler=[\n",
    "        (phraser_on_body, (phraser,), ['clean_body'])\n",
    "    ]\n",
    ")"
   ]
  },
  {
   "cell_type": "code",
   "execution_count": 9,
   "metadata": {},
   "outputs": [],
   "source": [
    "df_emails_clean = PhraserTransformer.fit_transform(df_emails_clean)"
   ]
  },
  {
   "cell_type": "markdown",
   "metadata": {},
   "source": [
    "## The Tokenizer class"
   ]
  },
  {
   "cell_type": "markdown",
   "metadata": {},
   "source": [
    "The Tokenizer class splits a sentence-like string into a list of sub-strings (tokens). "
   ]
  },
  {
   "cell_type": "markdown",
   "metadata": {},
   "source": [
    "The arguments of a Tokenizer object are :\n",
    "- **input_column :** the input text column to consider for the tokenizer.\n",
    "- **stopwords :** the list of words to remove from list of tokens. Default value, list defined in conf.json file.\n",
    "- **stop_removal :** True if stopwords to be removed, else False. Default value, False.\n",
    "- **n_jobs :** the number of cores used for computation. Default value, 20."
   ]
  },
  {
   "cell_type": "code",
   "execution_count": 10,
   "metadata": {},
   "outputs": [],
   "source": [
    "from melusine.nlp_tools.tokenizer import Tokenizer\n",
    "\n",
    "tokenizer = Tokenizer (input_column='clean_body',\n",
    "                       stop_removal=True,\n",
    "                       n_jobs=20)"
   ]
  },
  {
   "cell_type": "markdown",
   "metadata": {},
   "source": [
    "#### Applying a Tokenizer"
   ]
  },
  {
   "cell_type": "markdown",
   "metadata": {},
   "source": [
    "Use the **fit_transform** method on a dataframe to create a new ***tokens* column**"
   ]
  },
  {
   "cell_type": "code",
   "execution_count": 11,
   "metadata": {},
   "outputs": [],
   "source": [
    "df_emails_clean = tokenizer.fit_transform(df_emails_clean)"
   ]
  },
  {
   "cell_type": "code",
   "execution_count": 12,
   "metadata": {},
   "outputs": [
    {
     "data": {
      "text/plain": [
       "'je vous informe que la nouvelle immatriculation est enfin faite. je vous prie de trouver donc la carte grise ainsi que la nouvelle immatriculation. je vous demanderai de faire les changements necessaires concernant l assurance.'"
      ]
     },
     "execution_count": 12,
     "metadata": {},
     "output_type": "execute_result"
    }
   ],
   "source": [
    "df_emails_clean.clean_body[1]"
   ]
  },
  {
   "cell_type": "code",
   "execution_count": 13,
   "metadata": {},
   "outputs": [
    {
     "data": {
      "text/plain": [
       "['informe',\n",
       " 'nouvelle',\n",
       " 'immatriculation',\n",
       " 'enfin',\n",
       " 'faite',\n",
       " 'prie',\n",
       " 'trouver',\n",
       " 'donc',\n",
       " 'carte',\n",
       " 'grise',\n",
       " 'ainsi',\n",
       " 'nouvelle',\n",
       " 'immatriculation',\n",
       " 'demanderai',\n",
       " 'faire',\n",
       " 'les',\n",
       " 'changements',\n",
       " 'necessaires',\n",
       " 'concernant',\n",
       " 'assurance']"
      ]
     },
     "execution_count": 13,
     "metadata": {},
     "output_type": "execute_result"
    }
   ],
   "source": [
    "df_emails_clean.tokens[1]"
   ]
  },
  {
   "cell_type": "markdown",
   "metadata": {},
   "source": [
    "#### Saving a Tokenizer"
   ]
  },
  {
   "cell_type": "code",
   "execution_count": 14,
   "metadata": {},
   "outputs": [],
   "source": [
    "import joblib\n",
    "_ = joblib.dump(tokenizer,\"./data/tokenizer.pickle\",compress=True)"
   ]
  },
  {
   "cell_type": "markdown",
   "metadata": {},
   "source": [
    "#### Loading a Tokenizer "
   ]
  },
  {
   "cell_type": "code",
   "execution_count": 15,
   "metadata": {},
   "outputs": [],
   "source": [
    "tokenizer = joblib.load(\"./data/tokenizer.pickle\")"
   ]
  },
  {
   "cell_type": "markdown",
   "metadata": {},
   "source": [
    "## The Embedding class"
   ]
  },
  {
   "cell_type": "markdown",
   "metadata": {},
   "source": [
    "Word embeddings are abstract representations of words in a lower dimensional vector space. One of the advantages of word embeddings is thus to save computational cost. The Melusine Embedding class uses a **Word2Vec** model. The trained Embedding object will be used in the Models subpackage to train a Neural Network to classify emails."
   ]
  },
  {
   "cell_type": "markdown",
   "metadata": {},
   "source": [
    "The arguments of an Embedding object are :\n",
    "- **input_column :** the name of the column used as an input for the training.\n",
    "- **workers :** the number of cores used for computation. Default value, 40.\n",
    "- **seed :** seed for the embedding model,\n",
    "- **iter :** number of iterations for the training,\n",
    "- **size :** dimension of the embeddings\n",
    "- **window :** \n",
    "- **min_count :** minimum number of occurences for a word to be taken into account."
   ]
  },
  {
   "cell_type": "code",
   "execution_count": 16,
   "metadata": {},
   "outputs": [],
   "source": [
    "from melusine.nlp_tools.embedding import Embedding\n",
    "\n",
    "embedding = Embedding(input_column='clean_body',\n",
    "                      size=300,\n",
    "                      min_count=10)"
   ]
  },
  {
   "cell_type": "markdown",
   "metadata": {},
   "source": [
    "#### Training embeddings"
   ]
  },
  {
   "cell_type": "code",
   "execution_count": 17,
   "metadata": {},
   "outputs": [],
   "source": [
    "embedding.train(df_emails_clean)"
   ]
  },
  {
   "cell_type": "markdown",
   "metadata": {},
   "source": [
    "#### Saving embeddings"
   ]
  },
  {
   "cell_type": "code",
   "execution_count": 18,
   "metadata": {},
   "outputs": [],
   "source": [
    "embedding.save('./data/embedding.pickle')"
   ]
  },
  {
   "cell_type": "markdown",
   "metadata": {},
   "source": [
    "#### Loading embeddings"
   ]
  },
  {
   "cell_type": "code",
   "execution_count": 19,
   "metadata": {},
   "outputs": [],
   "source": [
    "embedding = Embedding().load('./data/embedding.pickle')"
   ]
  },
  {
   "cell_type": "code",
   "execution_count": null,
   "metadata": {},
   "outputs": [],
   "source": []
  }
 ],
 "metadata": {
  "kernelspec": {
   "display_name": "test_melusine3",
   "language": "python",
   "name": "test_melusine3"
  },
  "language_info": {
   "codemirror_mode": {
    "name": "ipython",
    "version": 3
   },
   "file_extension": ".py",
   "mimetype": "text/x-python",
   "name": "python",
   "nbconvert_exporter": "python",
   "pygments_lexer": "ipython3",
   "version": "3.6.8"
  }
 },
 "nbformat": 4,
 "nbformat_minor": 2
}
